{
 "cells": [
  {
   "cell_type": "code",
   "execution_count": 15,
   "id": "56850406",
   "metadata": {},
   "outputs": [],
   "source": [
    "# Solution 1 - applicable only if we know the pattern of address in data ..In this case there are high chances of good accuracy\n",
    "# even 90% accuracy can be acheived\n",
    "\n",
    "# 1. Create a regular expression for different addresses\n",
    "# 2. Keep a collection of states of a country to which data belongs \n",
    "# 3. If cosine similarity of string and by checking it with different states is greater than 80% then mask that state"
   ]
  },
  {
   "cell_type": "code",
   "execution_count": 9,
   "id": "9db229dd",
   "metadata": {},
   "outputs": [
    {
     "name": "stdout",
     "output_type": "stream",
     "text": [
      "717 N 2ND ST, chicago, MN 56001\n",
      "717 N 2ND ST, MANKATO, MN, 56001\n",
      "717 N 2ND, Makata, 56001\n",
      " invalid entry\n",
      "1234 N D AVE, East Boston, MA, 02134\n"
     ]
    }
   ],
   "source": [
    "import re\n",
    "\n",
    "# Goal:  '717 N 2ND ST, MANKATO, MN, 56001',\n",
    "regex = r'''\n",
    "    (?x)            # verbose regular expression\n",
    "    (?i)            # ignore case\n",
    "    (?P<HouseNumber>\\d+)\\s+        # Matches '717 '\n",
    "    (?P<Direction>[news])\\s+       # Matches 'N '\n",
    "    (?P<StreetName>\\w+)\\s+         # Matches '2ND '\n",
    "    (?P<StreetDesignator>\\w+),\\s+  # Matches 'ST, '\n",
    "    (?P<TownName>.*),\\s+           # Matches 'MANKATO, '\n",
    "    (?P<State>[A-Z]{2}),?\\s+       # Matches 'MN ' and 'MN, '\n",
    "    (?P<ZIP>\\d{5})                 # Matches '56001'\n",
    "'''\n",
    "\n",
    "regex = re.compile(regex)\n",
    "\n",
    "for item in (\n",
    "    '717 N 2ND ST, chicago, MN 56001',\n",
    "    '717 N 2ND ST, MANKATO, MN, 56001',\n",
    "    '717 N 2ND, Makata, 56001',   # Should reject this one\n",
    "    '1234 N D AVE, East Boston, MA, 02134',\n",
    "    ):\n",
    "    match = regex.match(item)\n",
    "    print(item)\n",
    "    if match:\n",
    "        pass\n",
    "    else:\n",
    "        print(\" invalid entry\")\n"
   ]
  },
  {
   "cell_type": "code",
   "execution_count": 14,
   "id": "1091e6bf",
   "metadata": {},
   "outputs": [
    {
     "name": "stdout",
     "output_type": "stream",
     "text": [
      "['n', 'e', 'w', 'y', 'o', 'r', 'k']\n",
      "['n', 'e', 'w', 'y', 'a', 'r', 'k']\n",
      "Cosine: 0.857142857142857\n"
     ]
    }
   ],
   "source": [
    "city=\"chicaga\"\n",
    "\n",
    "import math\n",
    "import re\n",
    "from collections import Counter\n",
    "\n",
    "WORD = re.compile(r\"\\w\")\n",
    "\n",
    "\n",
    "def get_cosine(vec1, vec2):\n",
    "    intersection = set(vec1.keys()) & set(vec2.keys())\n",
    "    numerator = sum([vec1[x] * vec2[x] for x in intersection])\n",
    "\n",
    "    sum1 = sum([vec1[x] ** 2 for x in list(vec1.keys())])\n",
    "    sum2 = sum([vec2[x] ** 2 for x in list(vec2.keys())])\n",
    "    denominator = math.sqrt(sum1) * math.sqrt(sum2)\n",
    "\n",
    "    if not denominator:\n",
    "        return 0.0\n",
    "    else:\n",
    "        return float(numerator) / denominator\n",
    "\n",
    "\n",
    "def text_to_vector(text):\n",
    "    words = WORD.findall(text)\n",
    "    print(words)\n",
    "    return Counter(words)\n",
    "\n",
    "\n",
    "actual_city = \"new york\"\n",
    "user_typed_city = \"new yark\"\n",
    "\n",
    "vector1 = text_to_vector(actual_city)\n",
    "vector2 = text_to_vector(user_typed_city)\n",
    "\n",
    "cosine = get_cosine(vector1, vector2)\n",
    "\n",
    "print(\"Cosine:\", cosine)"
   ]
  },
  {
   "cell_type": "code",
   "execution_count": 5,
   "id": "1c97f663",
   "metadata": {},
   "outputs": [],
   "source": [
    "# Solution 2 - This solution is generic for all datasets ...expected accuracy is low\n",
    "\n",
    "# 1. Using address module in ntlk library \n",
    "# 2. Tagging identified address parts in sub address entities\n",
    "# 3. Then mask those sub address entities\n",
    "\n",
    "\n",
    "#Demo\n",
    "\n",
    "\"\"\"('1046', 'AddressNumber')\n",
    "('Luettgen', 'StreetName')\n",
    "('Row', 'StreetNamePostType')\n",
    "('Suite', 'OccupancyType')\n",
    "('34', 'OccupancyIdentifier')\"\"\""
   ]
  },
  {
   "cell_type": "code",
   "execution_count": 6,
   "id": "0068207f",
   "metadata": {},
   "outputs": [],
   "source": [
    "# results \n",
    "\n",
    "# accuracy using only aws comprehend is 46%\n",
    "# accuracy with solution 2 is 79%\n",
    "# we can also acheive better accuracy using solution 2 if we know all the patterns in the dataset"
   ]
  },
  {
   "cell_type": "code",
   "execution_count": null,
   "id": "aa7ab263",
   "metadata": {},
   "outputs": [],
   "source": []
  }
 ],
 "metadata": {
  "kernelspec": {
   "display_name": "Python 3 (ipykernel)",
   "language": "python",
   "name": "python3"
  },
  "language_info": {
   "codemirror_mode": {
    "name": "ipython",
    "version": 3
   },
   "file_extension": ".py",
   "mimetype": "text/x-python",
   "name": "python",
   "nbconvert_exporter": "python",
   "pygments_lexer": "ipython3",
   "version": "3.9.12"
  }
 },
 "nbformat": 4,
 "nbformat_minor": 5
}
