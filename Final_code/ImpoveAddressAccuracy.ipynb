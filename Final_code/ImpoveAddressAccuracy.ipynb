{
 "cells": [
  {
   "cell_type": "code",
   "execution_count": 5,
   "id": "e5a2eaeb",
   "metadata": {},
   "outputs": [],
   "source": [
    "import pandas as pd\n",
    "pd.set_option('display.max_rows', 500)\n",
    "pd.set_option('display.max_columns', 500)\n",
    "pd.set_option('display.width', 2000)\n",
    "pd.set_option('display.max_colwidth', None)\n",
    "pd.options.display.float_format = '{:.4f}'.format"
   ]
  },
  {
   "cell_type": "code",
   "execution_count": 6,
   "id": "210aa9de",
   "metadata": {},
   "outputs": [],
   "source": [
    "df=pd.read_csv(\"dumpy_data.csv\")"
   ]
  },
  {
   "cell_type": "code",
   "execution_count": 10,
   "id": "0b38345b",
   "metadata": {},
   "outputs": [
    {
     "data": {
      "text/plain": [
       "Address    188 Baumbach Arcade Apt 78\n",
       "Name: 0, dtype: object"
      ]
     },
     "execution_count": 10,
     "metadata": {},
     "output_type": "execute_result"
    }
   ],
   "source": [
    "df[['Address']].iloc[0]"
   ]
  },
  {
   "cell_type": "code",
   "execution_count": 11,
   "id": "3d79da04",
   "metadata": {},
   "outputs": [
    {
     "data": {
      "text/plain": [
       "Address    189 Jerde Mews Unit 75\n",
       "Name: 1, dtype: object"
      ]
     },
     "execution_count": 11,
     "metadata": {},
     "output_type": "execute_result"
    }
   ],
   "source": [
    "df[['Address']].iloc[1]"
   ]
  },
  {
   "cell_type": "code",
   "execution_count": 12,
   "id": "1123ffd8",
   "metadata": {},
   "outputs": [
    {
     "ename": "ModuleNotFoundError",
     "evalue": "No module named 'usaddress'",
     "output_type": "error",
     "traceback": [
      "\u001b[1;31m---------------------------------------------------------------------------\u001b[0m",
      "\u001b[1;31mModuleNotFoundError\u001b[0m                       Traceback (most recent call last)",
      "Input \u001b[1;32mIn [12]\u001b[0m, in \u001b[0;36m<cell line: 1>\u001b[1;34m()\u001b[0m\n\u001b[1;32m----> 1\u001b[0m \u001b[38;5;28;01mimport\u001b[39;00m \u001b[38;5;21;01musaddress\u001b[39;00m\n",
      "\u001b[1;31mModuleNotFoundError\u001b[0m: No module named 'usaddress'"
     ]
    }
   ],
   "source": [
    "import usaddress"
   ]
  },
  {
   "cell_type": "code",
   "execution_count": 13,
   "id": "3128cfcb",
   "metadata": {},
   "outputs": [
    {
     "name": "stdout",
     "output_type": "stream",
     "text": [
      "Collecting usaddress\n",
      "  Downloading usaddress-0.5.10-py2.py3-none-any.whl (63 kB)\n",
      "Collecting python-crfsuite>=0.7\n",
      "  Downloading python_crfsuite-0.9.8-cp39-cp39-win_amd64.whl (158 kB)\n",
      "Collecting probableparsing\n",
      "  Downloading probableparsing-0.0.1-py2.py3-none-any.whl (3.1 kB)\n",
      "Requirement already satisfied: future>=0.14 in c:\\users\\ajay\\anaconda3\\lib\\site-packages (from usaddress) (0.18.2)\n",
      "Installing collected packages: python-crfsuite, probableparsing, usaddress\n",
      "Successfully installed probableparsing-0.0.1 python-crfsuite-0.9.8 usaddress-0.5.10\n",
      "Note: you may need to restart the kernel to use updated packages.\n"
     ]
    }
   ],
   "source": [
    "pip install usaddress"
   ]
  },
  {
   "cell_type": "code",
   "execution_count": 18,
   "id": "c27103b5",
   "metadata": {},
   "outputs": [],
   "source": [
    "import usaddress\n",
    "addr=df['Address'].iloc[1]\n"
   ]
  },
  {
   "cell_type": "code",
   "execution_count": 21,
   "id": "0bc5400f",
   "metadata": {},
   "outputs": [
    {
     "data": {
      "text/plain": [
       "'189 Jerde Mews Unit 75'"
      ]
     },
     "execution_count": 21,
     "metadata": {},
     "output_type": "execute_result"
    }
   ],
   "source": [
    "addr"
   ]
  },
  {
   "cell_type": "code",
   "execution_count": 20,
   "id": "773c4c1f",
   "metadata": {},
   "outputs": [
    {
     "data": {
      "text/plain": [
       "[('189', 'AddressNumber'),\n",
       " ('Jerde', 'StreetName'),\n",
       " ('Mews', 'StreetNamePostType'),\n",
       " ('Unit', 'OccupancyType'),\n",
       " ('75', 'OccupancyIdentifier')]"
      ]
     },
     "execution_count": 20,
     "metadata": {},
     "output_type": "execute_result"
    }
   ],
   "source": [
    "\n",
    "usaddress.parse(addr)"
   ]
  },
  {
   "cell_type": "code",
   "execution_count": 22,
   "id": "f9010240",
   "metadata": {},
   "outputs": [
    {
     "data": {
      "text/plain": [
       "(OrderedDict([('AddressNumber', '189'),\n",
       "              ('StreetName', 'Jerde'),\n",
       "              ('StreetNamePostType', 'Mews'),\n",
       "              ('OccupancyType', 'Unit'),\n",
       "              ('OccupancyIdentifier', '75')]),\n",
       " 'Street Address')"
      ]
     },
     "execution_count": 22,
     "metadata": {},
     "output_type": "execute_result"
    }
   ],
   "source": [
    "usaddress.tag(addr)"
   ]
  },
  {
   "cell_type": "code",
   "execution_count": 23,
   "id": "e3bf0576",
   "metadata": {},
   "outputs": [
    {
     "data": {
      "text/plain": [
       "[('123', 'AddressNumber'),\n",
       " ('Main', 'StreetName'),\n",
       " ('St.', 'StreetNamePostType'),\n",
       " ('Suite', 'OccupancyType'),\n",
       " ('100', 'OccupancyIdentifier'),\n",
       " ('Chicago,', 'PlaceName'),\n",
       " ('IL', 'StateName')]"
      ]
     },
     "execution_count": 23,
     "metadata": {},
     "output_type": "execute_result"
    }
   ],
   "source": [
    "addr='123 Main St. Suite 100 Chicago, IL'\n",
    "usaddress.parse(addr)"
   ]
  },
  {
   "cell_type": "code",
   "execution_count": 24,
   "id": "f9024f83",
   "metadata": {},
   "outputs": [
    {
     "data": {
      "text/plain": [
       "[('House', 'Recipient'),\n",
       " ('no', 'Recipient'),\n",
       " ('123', 'Recipient'),\n",
       " ('state', 'Recipient'),\n",
       " ('washington', 'Recipient'),\n",
       " ('dc', 'Recipient'),\n",
       " ('zipcode', 'USPSBoxType'),\n",
       " ('123344', 'USPSBoxID')]"
      ]
     },
     "execution_count": 24,
     "metadata": {},
     "output_type": "execute_result"
    }
   ],
   "source": [
    "addr='House no 123 , state washington dc , zipcode 123344'\n",
    "usaddress.parse(addr)"
   ]
  },
  {
   "cell_type": "code",
   "execution_count": 32,
   "id": "505a02ef",
   "metadata": {},
   "outputs": [
    {
     "data": {
      "text/plain": [
       "(OrderedDict([('Recipient',\n",
       "               'Medical record is 12344 he has stomach ache Patient address is'),\n",
       "              ('AddressNumber', '123'),\n",
       "              ('StreetName', 'Main'),\n",
       "              ('StreetNamePostType', 'St.'),\n",
       "              ('OccupancyType', 'Suite'),\n",
       "              ('OccupancyIdentifier', '100'),\n",
       "              ('BuildingName', 'Chicago, IL He is recovering soon')]),\n",
       " 'Street Address')"
      ]
     },
     "execution_count": 32,
     "metadata": {},
     "output_type": "execute_result"
    }
   ],
   "source": [
    "addr='Medical record is 12344 . he has stomach ache . Patient address is . 123 Main St. Suite 100 Chicago, IL . He is recovering soon'\n",
    "usaddress.tag(addr)"
   ]
  },
  {
   "cell_type": "code",
   "execution_count": 35,
   "id": "b48e7d92",
   "metadata": {},
   "outputs": [
    {
     "data": {
      "text/plain": [
       "[]"
      ]
     },
     "execution_count": 35,
     "metadata": {},
     "output_type": "execute_result"
    }
   ],
   "source": [
    "import re\n",
    "\n",
    "txt = 'Medical record is 12344 . he has stomach ache . Patient address is . 123, Main ,St. Suite 100 Chicago, IL . He is recovering soon'\n",
    "regexp = \"[0-9]{1,3} .+, .+, [A-Z]{2} [0-9]{5}\"\n",
    "address = re.findall(regexp, txt)\n",
    "address"
   ]
  },
  {
   "cell_type": "code",
   "execution_count": 37,
   "id": "0b93ff7b",
   "metadata": {},
   "outputs": [
    {
     "name": "stdout",
     "output_type": "stream",
     "text": [
      "Requirement already satisfied: pyap in c:\\users\\ajay\\anaconda3\\lib\\site-packages (0.3.1)\n",
      "Note: you may need to restart the kernel to use updated packages.\n"
     ]
    }
   ],
   "source": [
    "pip install pyap"
   ]
  },
  {
   "cell_type": "code",
   "execution_count": 46,
   "id": "ccb84b7d",
   "metadata": {},
   "outputs": [
    {
     "data": {
      "text/plain": [
       "[225 E. John Carpenter Freeway, Suite 1500 Irving, Texas 75062]"
      ]
     },
     "execution_count": 46,
     "metadata": {},
     "output_type": "execute_result"
    }
   ],
   "source": [
    "import pyap\n",
    "test_address='Medical record is 12344 . he has stomach ache . Patient address is  123, Main ,St. Suite 100 Chicago, IL . He is recovering soon'\n",
    "test_address = \"\"\"\n",
    "Lorem ipsum\n",
    "225 E. John Carpenter Freeway,\n",
    "Suite 1500 Irving, Texas 75062\n",
    "Dorem sit amet     . 123, Main ,St. Suite 100 Chicago, IL\n",
    "\"\"\"\n",
    "addresses=pyap.parse(test_address, country='US')\n",
    "addresses"
   ]
  },
  {
   "cell_type": "code",
   "execution_count": 2,
   "id": "8539e926",
   "metadata": {},
   "outputs": [
    {
     "name": "stdout",
     "output_type": "stream",
     "text": [
      "717 N 2ND ST, MANKATO, MN 56001\n",
      "    House is on N side of MANKATO\n",
      "717 N 2ND ST, MANKATO, MN, 56001\n",
      "    House is on N side of MANKATO\n",
      "717 N 2ND, Makata, 56001\n",
      " invalid entry\n",
      "1234 N D AVE, East Boston, MA, 02134\n",
      "    House is on N side of East Boston\n"
     ]
    },
    {
     "name": "stderr",
     "output_type": "stream",
     "text": [
      "C:\\Users\\Ajay\\AppData\\Local\\Temp\\ipykernel_17252\\2793174081.py:17: DeprecationWarning: Flags not at the start of the expression '\\n    (?x)           ' (truncated) but at position 5\n",
      "  regex = re.compile(regex)\n"
     ]
    }
   ],
   "source": [
    "import re\n",
    "\n",
    "# Goal:  '717 N 2ND ST, MANKATO, MN 56001',\n",
    "# Goal:  '717 N 2ND ST, MANKATO, MN, 56001',\n",
    "regex = r'''\n",
    "    (?x)            # verbose regular expression\n",
    "    (?i)            # ignore case\n",
    "    (?P<HouseNumber>\\d+)\\s+        # Matches '717 '\n",
    "    (?P<Direction>[news])\\s+       # Matches 'N '\n",
    "    (?P<StreetName>\\w+)\\s+         # Matches '2ND '\n",
    "    (?P<StreetDesignator>\\w+),\\s+  # Matches 'ST, '\n",
    "    (?P<TownName>.*),\\s+           # Matches 'MANKATO, '\n",
    "    (?P<State>[A-Z]{2}),?\\s+       # Matches 'MN ' and 'MN, '\n",
    "    (?P<ZIP>\\d{5})                 # Matches '56001'\n",
    "'''\n",
    "\n",
    "regex = re.compile(regex)\n",
    "\n",
    "for item in (\n",
    "    '717 N 2ND ST, MANKATO, MN 56001',\n",
    "    '717 N 2ND ST, MANKATO, MN, 56001',\n",
    "    '717 N 2ND, Makata, 56001',   # Should reject this one\n",
    "    '1234 N D AVE, East Boston, MA, 02134',\n",
    "    ):\n",
    "    match = regex.match(item)\n",
    "    print(item)\n",
    "    if match:\n",
    "        print(\"    House is on {Direction} side of {TownName}\".format(**match.groupdict()))\n",
    "    else:\n",
    "        print(\" invalid entry\")\n"
   ]
  },
  {
   "cell_type": "code",
   "execution_count": null,
   "id": "c215a4a4",
   "metadata": {},
   "outputs": [],
   "source": []
  }
 ],
 "metadata": {
  "kernelspec": {
   "display_name": "Python 3 (ipykernel)",
   "language": "python",
   "name": "python3"
  },
  "language_info": {
   "codemirror_mode": {
    "name": "ipython",
    "version": 3
   },
   "file_extension": ".py",
   "mimetype": "text/x-python",
   "name": "python",
   "nbconvert_exporter": "python",
   "pygments_lexer": "ipython3",
   "version": "3.9.12"
  }
 },
 "nbformat": 4,
 "nbformat_minor": 5
}
